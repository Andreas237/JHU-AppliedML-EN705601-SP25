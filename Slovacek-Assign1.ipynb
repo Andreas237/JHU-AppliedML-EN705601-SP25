{
 "cells": [
  {
   "cell_type": "markdown",
   "id": "75892bad-b92b-4b52-84f6-5fa76cb410ed",
   "metadata": {},
   "source": [
    "## 1. [20 pts] Define each of the following machine learning terms in your own words:\n",
    "  1. the training dataset, testing dataset, and validation dataset\n",
    "\n",
    "    a. Training dataset: the dataset used to \"teach\" the model how to respond to a certain format of data.  More specifically, the dataset used to generate weights for the model.\n",
    "    b. Testing dataset\n",
    "    c. Validation dataset: \n",
    "\n",
    "    \n",
    "     \n",
    "  3. ground truth, label\n",
    "  4. pre-processing, feature, numerical, nominal\n",
    "  5. decision surface\n",
    "  6. model validation, accuracy, cross-validation\n",
    "  7. parameters, hyperparameters, overfit\n",
    "  8. reclassification"
   ]
  },
  {
   "cell_type": "markdown",
   "id": "7a778be8-c0d2-411d-8266-f28a692c8946",
   "metadata": {},
   "source": [
    "## 2. [12 pts] Pick the Iris dataset of the Scikit-learn datasets for classification which is included in the library (i.e. the dataset can be loaded with datasets.load_) and find out the following:\n",
    "  1. the number of data points\n",
    "  2. the number of features and their types\n",
    "  3. the number and name of categories (i.e. the target field)\n",
    "  4. the mean (or mode if nominal) of the first two features"
   ]
  },
  {
   "cell_type": "code",
   "execution_count": null,
   "id": "919b29c0-c4b7-494a-9bfa-8ef7589bb3a8",
   "metadata": {},
   "outputs": [],
   "source": []
  }
 ],
 "metadata": {
  "kernelspec": {
   "display_name": "Python 3 (ipykernel)",
   "language": "python",
   "name": "python3"
  },
  "language_info": {
   "codemirror_mode": {
    "name": "ipython",
    "version": 3
   },
   "file_extension": ".py",
   "mimetype": "text/x-python",
   "name": "python",
   "nbconvert_exporter": "python",
   "pygments_lexer": "ipython3",
   "version": "3.12.8"
  }
 },
 "nbformat": 4,
 "nbformat_minor": 5
}
