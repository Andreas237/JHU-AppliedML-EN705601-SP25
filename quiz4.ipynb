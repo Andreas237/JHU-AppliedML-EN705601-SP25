{
 "cells": [
  {
   "cell_type": "code",
   "execution_count": 1,
   "id": "b97fb248-4909-46dd-b23d-b0183119338c",
   "metadata": {},
   "outputs": [
    {
     "data": {
      "image/png": "[encoded data removed]",
      "text/plain": [
       "<Figure size 1000x300 with 4 Axes>"
      ]
     },
     "metadata": {},
     "output_type": "display_data"
    }
   ],
   "source": [
    "import matplotlib.pyplot as plt\n",
    "\n",
    "# Import datasets, classifiers and performance metrics\n",
    "from sklearn import datasets, metrics, svm\n",
    "from sklearn.model_selection import train_test_split\n",
    "digits = datasets.load_digits()\n",
    "\n",
    "_, axes = plt.subplots(nrows=1, ncols=4, figsize=(10, 3))\n",
    "for ax, image, label in zip(axes, digits.images, digits.target):\n",
    "    ax.set_axis_off()\n",
    "    ax.imshow(image, cmap=plt.cm.gray_r, interpolation=\"nearest\")\n",
    "    ax.set_title(\"Training: %i\" % label)"
   ]
  },
  {
   "cell_type": "code",
   "execution_count": 2,
   "id": "fdd5ca0e-8d12-4c84-b648-f35497257433",
   "metadata": {},
   "outputs": [],
   "source": [
    "# flatten the images\n",
    "n_samples = len(digits.images)\n",
    "data = digits.images.reshape((n_samples, -1))\n",
    "\n",
    "# Create a classifier: a support vector classifier\n",
    "clf = svm.SVC(gamma=0.001)\n",
    "\n",
    "# Split data into 50% train and 50% test subsets\n",
    "X_train, X_test, y_train, y_test = train_test_split(\n",
    "    data, digits.target, test_size=0.5, shuffle=False\n",
    ")\n",
    "\n",
    "# Learn the digits on the train subset\n",
    "clf.fit(X_train, y_train)\n",
    "\n",
    "# Predict the value of the digit on the test subset\n",
    "predicted = clf.predict(X_test)\n"
   ]
  },
  {
   "cell_type": "code",
   "execution_count": 3,
   "id": "003b933a-782d-4c9c-a63e-83dfbfdcf74f",
   "metadata": {},
   "outputs": [
    {
     "name": "stdout",
     "output_type": "stream",
     "text": [
      "Classification report for classifier SVC(gamma=0.001):\n",
      "              precision    recall  f1-score   support\n",
      "\n",
      "   pixel_0_0       0.00      0.00      0.00         0\n",
      "   pixel_0_1       0.00      0.00      0.00         0\n",
      "   pixel_0_2       0.00      0.00      0.00         0\n",
      "   pixel_0_3       0.00      0.00      0.00         0\n",
      "   pixel_0_4       0.00      0.00      0.00         0\n",
      "   pixel_0_5       0.00      0.00      0.00         0\n",
      "   pixel_0_6       0.00      0.00      0.00         0\n",
      "   pixel_0_7       0.00      0.00      0.00         0\n",
      "   pixel_1_0       0.00      0.00      0.00         0\n",
      "   pixel_1_1       0.00      0.00      0.00         0\n",
      "   pixel_1_2       0.00      0.00      0.00         0\n",
      "   pixel_1_3       0.00      0.00      0.00         0\n",
      "   pixel_1_4       0.00      0.00      0.00         0\n",
      "   pixel_1_5       0.00      0.00      0.00         0\n",
      "   pixel_1_6       0.00      0.00      0.00         0\n",
      "   pixel_1_7       0.00      0.00      0.00         0\n",
      "   pixel_2_0       0.00      0.00      0.00         0\n",
      "   pixel_2_1       0.00      0.00      0.00         0\n",
      "   pixel_2_2       0.00      0.00      0.00         0\n",
      "   pixel_2_3       0.00      0.00      0.00         0\n",
      "   pixel_2_4       0.00      0.00      0.00         0\n",
      "   pixel_2_5       0.00      0.00      0.00         0\n",
      "   pixel_2_6       0.00      0.00      0.00         0\n",
      "   pixel_2_7       0.00      0.00      0.00         0\n",
      "   pixel_3_0       0.00      0.00      0.00         0\n",
      "   pixel_3_1       0.00      0.00      0.00         0\n",
      "   pixel_3_2       0.00      0.00      0.00         0\n",
      "   pixel_3_3       0.00      0.00      0.00         0\n",
      "   pixel_3_4       0.00      0.00      0.00         0\n",
      "   pixel_3_5       0.00      0.00      0.00         0\n",
      "   pixel_3_6       0.00      0.00      0.00         0\n",
      "   pixel_3_7       0.00      0.00      0.00         0\n",
      "   pixel_4_0       0.00      0.00      0.00         0\n",
      "   pixel_4_1       0.00      0.00      0.00         0\n",
      "   pixel_4_2       0.00      0.00      0.00         0\n",
      "   pixel_4_3       0.00      0.00      0.00         0\n",
      "   pixel_4_4       0.00      0.00      0.00         0\n",
      "   pixel_4_5       0.00      0.00      0.00         0\n",
      "   pixel_4_6       0.00      0.00      0.00         0\n",
      "   pixel_4_7       0.00      0.00      0.00         0\n",
      "   pixel_5_0       0.00      0.00      0.00         0\n",
      "   pixel_5_1       0.00      0.00      0.00         0\n",
      "   pixel_5_2       0.00      0.00      0.00         0\n",
      "   pixel_5_3       0.00      0.00      0.00         0\n",
      "   pixel_5_4       0.00      0.00      0.00         0\n",
      "   pixel_5_5       0.00      0.00      0.00         0\n",
      "   pixel_5_6       0.00      0.00      0.00         0\n",
      "   pixel_5_7       0.00      0.00      0.00         0\n",
      "   pixel_6_0       0.00      0.00      0.00         0\n",
      "   pixel_6_1       0.00      0.00      0.00         0\n",
      "   pixel_6_2       0.00      0.00      0.00         0\n",
      "   pixel_6_3       0.00      0.00      0.00         0\n",
      "   pixel_6_4       0.00      0.00      0.00         0\n",
      "   pixel_6_5       0.00      0.00      0.00         0\n",
      "   pixel_6_6       0.00      0.00      0.00         0\n",
      "   pixel_6_7       0.00      0.00      0.00         0\n",
      "   pixel_7_0       0.00      0.00      0.00         0\n",
      "   pixel_7_1       0.00      0.00      0.00         0\n",
      "   pixel_7_2       0.00      0.00      0.00         0\n",
      "   pixel_7_3       0.00      0.00      0.00         0\n",
      "   pixel_7_4       0.00      0.00      0.00         0\n",
      "   pixel_7_5       0.00      0.00      0.00         0\n",
      "   pixel_7_6       0.00      0.00      0.00         0\n",
      "   pixel_7_7       0.00      0.00      0.00         0\n",
      "\n",
      "   micro avg       0.00      0.00      0.00         0\n",
      "   macro avg       0.00      0.00      0.00         0\n",
      "weighted avg       0.00      0.00      0.00         0\n",
      "\n",
      "\n"
     ]
    },
    {
     "name": "stderr",
     "output_type": "stream",
     "text": [
      "/home/ace/work/JHU-AppliedML-EN705601-SP25/venv/lib/python3.12/site-packages/sklearn/metrics/_classification.py:1565: UndefinedMetricWarning: Precision is ill-defined and being set to 0.0 in labels with no predicted samples. Use `zero_division` parameter to control this behavior.\n",
      "  _warn_prf(average, modifier, f\"{metric.capitalize()} is\", len(result))\n",
      "/home/ace/work/JHU-AppliedML-EN705601-SP25/venv/lib/python3.12/site-packages/sklearn/metrics/_classification.py:1565: UndefinedMetricWarning: Recall is ill-defined and being set to 0.0 in labels with no true samples. Use `zero_division` parameter to control this behavior.\n",
      "  _warn_prf(average, modifier, f\"{metric.capitalize()} is\", len(result))\n",
      "/home/ace/work/JHU-AppliedML-EN705601-SP25/venv/lib/python3.12/site-packages/sklearn/metrics/_classification.py:1565: UndefinedMetricWarning: F-score is ill-defined and being set to 0.0 in labels with no true nor predicted samples. Use `zero_division` parameter to control this behavior.\n",
      "  _warn_prf(average, modifier, f\"{metric.capitalize()} is\", len(result))\n",
      "/home/ace/work/JHU-AppliedML-EN705601-SP25/venv/lib/python3.12/site-packages/sklearn/metrics/_classification.py:1565: UndefinedMetricWarning: Precision is ill-defined and being set to 0.0 due to no predicted samples. Use `zero_division` parameter to control this behavior.\n",
      "  _warn_prf(average, modifier, f\"{metric.capitalize()} is\", len(result))\n",
      "/home/ace/work/JHU-AppliedML-EN705601-SP25/venv/lib/python3.12/site-packages/sklearn/metrics/_classification.py:1565: UndefinedMetricWarning: Recall is ill-defined and being set to 0.0 due to no true samples. Use `zero_division` parameter to control this behavior.\n",
      "  _warn_prf(average, modifier, f\"{metric.capitalize()} is\", len(result))\n",
      "/home/ace/work/JHU-AppliedML-EN705601-SP25/venv/lib/python3.12/site-packages/sklearn/metrics/_classification.py:1565: UndefinedMetricWarning: F-score is ill-defined and being set to 0.0 due to no true nor predicted samples. Use `zero_division` parameter to control this behavior.\n",
      "  _warn_prf(average, modifier, f\"{metric.capitalize()} is\", len(result))\n",
      "/home/ace/work/JHU-AppliedML-EN705601-SP25/venv/lib/python3.12/site-packages/sklearn/metrics/_classification.py:1565: UndefinedMetricWarning: Precision is ill-defined and being set to 0.0 in labels with no predicted samples. Use `zero_division` parameter to control this behavior.\n",
      "  _warn_prf(average, modifier, f\"{metric.capitalize()} is\", len(result))\n",
      "/home/ace/work/JHU-AppliedML-EN705601-SP25/venv/lib/python3.12/site-packages/sklearn/metrics/_classification.py:1565: UndefinedMetricWarning: Recall is ill-defined and being set to 0.0 in labels with no true samples. Use `zero_division` parameter to control this behavior.\n",
      "  _warn_prf(average, modifier, f\"{metric.capitalize()} is\", len(result))\n",
      "/home/ace/work/JHU-AppliedML-EN705601-SP25/venv/lib/python3.12/site-packages/sklearn/metrics/_classification.py:1565: UndefinedMetricWarning: F-score is ill-defined and being set to 0.0 in labels with no true nor predicted samples. Use `zero_division` parameter to control this behavior.\n",
      "  _warn_prf(average, modifier, f\"{metric.capitalize()} is\", len(result))\n",
      "/home/ace/work/JHU-AppliedML-EN705601-SP25/venv/lib/python3.12/site-packages/sklearn/metrics/_classification.py:1565: UndefinedMetricWarning: Precision is ill-defined and being set to 0.0 in labels with no predicted samples. Use `zero_division` parameter to control this behavior.\n",
      "  _warn_prf(average, modifier, f\"{metric.capitalize()} is\", len(result))\n",
      "/home/ace/work/JHU-AppliedML-EN705601-SP25/venv/lib/python3.12/site-packages/sklearn/metrics/_classification.py:1565: UndefinedMetricWarning: Recall is ill-defined and being set to 0.0 in labels with no true samples. Use `zero_division` parameter to control this behavior.\n",
      "  _warn_prf(average, modifier, f\"{metric.capitalize()} is\", len(result))\n",
      "/home/ace/work/JHU-AppliedML-EN705601-SP25/venv/lib/python3.12/site-packages/sklearn/metrics/_classification.py:1565: UndefinedMetricWarning: F-score is ill-defined and being set to 0.0 in labels with no true nor predicted samples. Use `zero_division` parameter to control this behavior.\n",
      "  _warn_prf(average, modifier, f\"{metric.capitalize()} is\", len(result))\n"
     ]
    }
   ],
   "source": [
    "print(\n",
    "    f\"Classification report for classifier {clf}:\\n\"\n",
    "    f\"{metrics.classification_report(y_test, predicted, labels=digits.feature_names)}\\n\"\n",
    ")"
   ]
  },
  {
   "cell_type": "code",
   "execution_count": 6,
   "id": "cc4ac1d8-14a9-4b7f-94a8-b17f143ae130",
   "metadata": {},
   "outputs": [
    {
     "name": "stdout",
     "output_type": "stream",
     "text": [
      "Mean Accuracy: 0.9560937742586555, Standard Deviation: 0.02283883380490945\n"
     ]
    }
   ],
   "source": [
    "from sklearn.model_selection import cross_val_score\n",
    "from sklearn.ensemble import RandomForestClassifier\n",
    "from sklearn.datasets import load_breast_cancer\n",
    "import numpy as np\n",
    "import pandas as pd\n",
    "\n",
    "\n",
    "bc = load_breast_cancer()\n",
    "bc_df = pd.DataFrame(data= np.c_[bc.data, [bc.target_names[v] for v in bc.target]],\n",
    "                     columns= list(bc.feature_names)+['cancer'])\n",
    "\n",
    "\n",
    "X = bc_df.loc[:, bc_df.columns != 'cancer'].values\n",
    "y = bc_df.loc[:, bc_df.columns == 'cancer'].values.ravel()\n",
    "\n",
    "model = RandomForestClassifier(n_estimators=100, random_state=42)\n",
    "scores = cross_val_score(model, X, y, cv=5, scoring='accuracy')\n",
    "print(f\"Mean Accuracy: {scores.mean()}, Standard Deviation: {scores.std()}\")"
   ]
  },
  {
   "cell_type": "code",
   "execution_count": null,
   "id": "6efe0d89-950d-4c7c-9fbf-6e0e5079ecd5",
   "metadata": {},
   "outputs": [],
   "source": []
  }
 ],
 "metadata": {
  "kernelspec": {
   "display_name": "Python 3 (ipykernel)",
   "language": "python",
   "name": "python3"
  },
  "language_info": {
   "codemirror_mode": {
    "name": "ipython",
    "version": 3
   },
   "file_extension": ".py",
   "mimetype": "text/x-python",
   "name": "python",
   "nbconvert_exporter": "python",
   "pygments_lexer": "ipython3",
   "version": "3.12.3"
  }
 },
 "nbformat": 4,
 "nbformat_minor": 5
}
